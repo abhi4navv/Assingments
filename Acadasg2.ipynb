{
 "cells": [
  {
   "cell_type": "code",
   "execution_count": null,
   "metadata": {},
   "outputs": [],
   "source": [
    "# 1.1 Write a Python Program to implement your own myreduce() function which works exactly like\n",
    "# Python's built-in function reduce()"
   ]
  },
  {
   "cell_type": "code",
   "execution_count": 51,
   "metadata": {},
   "outputs": [],
   "source": [
    "def myreduce(fn,lst):\n",
    "    if isinstance(lst,(list,))!=True:\n",
    "        print('The function require list as second parameter')\n",
    "    else:\n",
    "        try:\n",
    "            arg1=lst[0]\n",
    "            arg2=lst[1]\n",
    "            retres= fn(arg1,arg2) \n",
    "            for i in range(2,len(lst)):\n",
    "                arg1=retres\n",
    "                arg2=lst[i]\n",
    "                retres=fn(arg1,arg2)\n",
    "            return retres\n",
    "        except:\n",
    "            print('Invalid data passed')\n",
    "        \n",
    "    "
   ]
  },
  {
   "cell_type": "code",
   "execution_count": 54,
   "metadata": {},
   "outputs": [
    {
     "data": {
      "text/plain": [
       "720"
      ]
     },
     "execution_count": 54,
     "metadata": {},
     "output_type": "execute_result"
    }
   ],
   "source": [
    "\n",
    "myreduce(lambda x,y:x*y,[1,2,3,4,5,6])"
   ]
  },
  {
   "cell_type": "code",
   "execution_count": null,
   "metadata": {},
   "outputs": [],
   "source": [
    "# 1.2 Write a Python program to implement your own myfilter() function which works exactly like\n",
    "# Python's built-in function filter()"
   ]
  },
  {
   "cell_type": "code",
   "execution_count": 33,
   "metadata": {},
   "outputs": [],
   "source": [
    "def myfilter(fn,seq):\n",
    "    retlst=list()\n",
    "    if isinstance(seq,(list,))!=True:\n",
    "        retlst.append('The function need a list as parameter')\n",
    "    else:\n",
    "        for dt in seq:\n",
    "                retlst.append(fn(dt))\n",
    "    return retlst"
   ]
  },
  {
   "cell_type": "code",
   "execution_count": 34,
   "metadata": {},
   "outputs": [
    {
     "name": "stdout",
     "output_type": "stream",
     "text": [
      "[False, False, True, False, True, False, False]\n"
     ]
    }
   ],
   "source": [
    "sq=[1,5,6,9,8,7,3]\n",
    "x=myfilter(lambda x: x%2==0,sq)\n",
    "print(x)"
   ]
  },
  {
   "cell_type": "code",
   "execution_count": null,
   "metadata": {},
   "outputs": [],
   "source": [
    "# 2. Implement List comprehensions to produce the following lists.\n",
    "# Write List comprehensions to produce the following Lists"
   ]
  },
  {
   "cell_type": "code",
   "execution_count": null,
   "metadata": {},
   "outputs": [],
   "source": [
    "# ['A', 'C', 'A', 'D', 'G', 'I', ’L’, ‘ D’]"
   ]
  },
  {
   "cell_type": "code",
   "execution_count": 3,
   "metadata": {},
   "outputs": [
    {
     "name": "stdout",
     "output_type": "stream",
     "text": [
      "['A', 'C', 'A', 'D', 'G', 'I', 'L', 'D']\n"
     ]
    }
   ],
   "source": [
    "str2='ACADGILD'\n",
    "lst=list()\n",
    "for chr in str2:\n",
    "    lst.append(chr)\n",
    "print(lst)\n"
   ]
  },
  {
   "cell_type": "code",
   "execution_count": null,
   "metadata": {},
   "outputs": [],
   "source": [
    "# ['x', 'xx', 'xxx', 'xxxx', 'y', 'yy', 'yyy', 'yyyy', 'z', 'zz', 'zzz', 'zzzz']"
   ]
  },
  {
   "cell_type": "code",
   "execution_count": 4,
   "metadata": {},
   "outputs": [
    {
     "name": "stdout",
     "output_type": "stream",
     "text": [
      "['x', 'xx', 'xxx', 'xxxx', 'y', 'yy', 'yyy', 'yyyy', 'z', 'zz', 'zzz', 'zzzz']\n"
     ]
    }
   ],
   "source": [
    "str2='xyz'\n",
    "lst2=list()\n",
    "for ch in str2:\n",
    "    for i in range(1,5):\n",
    "        lst2.append(ch*i)\n",
    "print(lst2)"
   ]
  },
  {
   "cell_type": "code",
   "execution_count": null,
   "metadata": {},
   "outputs": [],
   "source": [
    "# ['x', 'y', 'z', 'xx', 'yy', 'zz', 'xx', 'yy', 'zz', 'xxxx', 'yyyy', 'zzzz']"
   ]
  },
  {
   "cell_type": "code",
   "execution_count": 5,
   "metadata": {},
   "outputs": [
    {
     "name": "stdout",
     "output_type": "stream",
     "text": [
      "['x', 'y', 'z', 'xx', 'yy', 'zz', 'xxx', 'yyy', 'zzz', 'xxxx', 'yyyy', 'zzzz']\n"
     ]
    }
   ],
   "source": [
    "str3='xyz'\n",
    "lst3=list()\n",
    "for j in range(1,5):\n",
    "    for c in str3:\n",
    "        lst3.append(c*j)\n",
    "print(lst3)"
   ]
  },
  {
   "cell_type": "code",
   "execution_count": null,
   "metadata": {},
   "outputs": [],
   "source": [
    "# [[2], [3], [4], [3], [4], [5], [4], [5], [6]]"
   ]
  },
  {
   "cell_type": "code",
   "execution_count": 6,
   "metadata": {},
   "outputs": [
    {
     "name": "stdout",
     "output_type": "stream",
     "text": [
      "[[2], [3], [4], [3], [4], [5], [4], [5], [6]]\n"
     ]
    }
   ],
   "source": [
    "stint='123'\n",
    "lstint=list()\n",
    "for i in range(3):\n",
    "    lpstr=int(stint[i])\n",
    "    for j in range(3):\n",
    "        lstint.append([lpstr+1])\n",
    "        lpstr=lpstr+1\n",
    "    \n",
    "print(lstint)"
   ]
  },
  {
   "cell_type": "code",
   "execution_count": null,
   "metadata": {},
   "outputs": [],
   "source": [
    "# [[2, 3, 4, 5], [3, 4, 5, 6], [4, 5, 6, 7], [5, 6, 7, 8]]"
   ]
  },
  {
   "cell_type": "code",
   "execution_count": 20,
   "metadata": {},
   "outputs": [
    {
     "name": "stdout",
     "output_type": "stream",
     "text": [
      "[[2, 3, 4, 5], [3, 4, 5, 6], [4, 5, 6, 7], [5, 6, 7, 8]]\n"
     ]
    }
   ],
   "source": [
    "sint=1\n",
    "ls1=list()\n",
    "ls2=list()\n",
    "for k in range(1,5):\n",
    "    ls2.append(sint+k)\n",
    "ls1.append(ls2)\n",
    "ls2=[]\n",
    "for i in range(3):\n",
    "    for l in ls1[i]:\n",
    "        ls2.append(int(l)+1)\n",
    "    ls1.append(ls2)\n",
    "    ls2=[]\n",
    "   \n",
    "print(ls1)\n",
    "    "
   ]
  },
  {
   "cell_type": "code",
   "execution_count": null,
   "metadata": {},
   "outputs": [],
   "source": [
    "# [(1, 1), (2, 1), (3, 1), (1, 2), (2, 2), (3, 2), (1, 3), (2, 3), (3, 3)]"
   ]
  },
  {
   "cell_type": "code",
   "execution_count": 26,
   "metadata": {},
   "outputs": [
    {
     "name": "stdout",
     "output_type": "stream",
     "text": [
      "[(1, 1), (2, 1), (3, 1), (1, 2), (2, 2), (3, 2), (1, 3), (2, 3), (3, 3)]\n"
     ]
    }
   ],
   "source": [
    "sin=1\n",
    "sin2=1\n",
    "ls3=[]\n",
    "ls4=list()\n",
    "for j in range(3):\n",
    "    for i in range(3):\n",
    "        ls4.append((sin+i,sin+j))\n",
    "print(ls4)\n"
   ]
  },
  {
   "cell_type": "code",
   "execution_count": null,
   "metadata": {},
   "outputs": [],
   "source": [
    "# 3. Implement a function longestWord() that takes a list of words and returns the longest one."
   ]
  },
  {
   "cell_type": "code",
   "execution_count": 32,
   "metadata": {},
   "outputs": [
    {
     "name": "stdout",
     "output_type": "stream",
     "text": [
      "containing\n"
     ]
    }
   ],
   "source": [
    "def lngsword(words):\n",
    "    longword=''\n",
    "    for word in words:\n",
    "        if len(word)>len(longword):\n",
    "            longword=word\n",
    "    return(longword)\n",
    "print(lngsword(['have','a','list', 'containing', 'numpy', 'arrays', 'something', 'like']))\n",
    "            "
   ]
  },
  {
   "cell_type": "code",
   "execution_count": null,
   "metadata": {},
   "outputs": [],
   "source": [
    "# 1.1 Write a Python Program(with class concepts) to find the area of the triangle using the below formula.\n",
    "# area = (s*(s-a)*(s-b)*(s-c)) ** 0.5\n",
    "# Function to take the length of the sides of triangle from user should be defined in the parent\n",
    "# class and function to calculate the area should be defined in subclass."
   ]
  },
  {
   "cell_type": "code",
   "execution_count": 15,
   "metadata": {},
   "outputs": [],
   "source": [
    "class CalArea:\n",
    "    def  __init__(self):\n",
    "        print('Main class')\n",
    "    def getdata(self):\n",
    "        self.s1=float(input('Please eneter 1st side of the triangle '))\n",
    "        self.s2=float(input('Please enter 2nd side of the triangle '))\n",
    "        self.s3=float(input('Please enter 3rd side of teh triangle '))\n",
    "        return(self.s1,self.s2,self.s3)\n",
    "class Triang(CalArea):\n",
    "    def __init__(self):\n",
    "        sides=self.getdata()\n",
    "        a=sides[0]\n",
    "        b=sides[1]\n",
    "        c=sides[2]\n",
    "        s=(a+b+c)/2\n",
    "        area=(s*(s-a)*(s-b)*(s-c))**0.5\n",
    "        print('The area of given triangle is ',area)"
   ]
  },
  {
   "cell_type": "code",
   "execution_count": 16,
   "metadata": {},
   "outputs": [
    {
     "name": "stdout",
     "output_type": "stream",
     "text": [
      "Please eneter 1st side of the triangle 5\n",
      "Please enter 2nd side of the triangle 6\n",
      "Please enter 3rd side of teh triangle 2\n",
      "The area of given triangle is  4.683748498798798\n"
     ]
    }
   ],
   "source": [
    "a=Triang()"
   ]
  },
  {
   "cell_type": "code",
   "execution_count": null,
   "metadata": {},
   "outputs": [],
   "source": [
    "# 1.2 Write a function filter_long_words() that takes a list of words and an integer n and returns \n",
    "# the list of words that are longer than n."
   ]
  },
  {
   "cell_type": "code",
   "execution_count": 19,
   "metadata": {},
   "outputs": [],
   "source": [
    "def filter_long_words(words,n):\n",
    "    retword=list()\n",
    "    for word in words:\n",
    "        if len(word)>n:\n",
    "            retword.append(word)\n",
    "    return retword\n",
    "        \n",
    "    "
   ]
  },
  {
   "cell_type": "code",
   "execution_count": 20,
   "metadata": {},
   "outputs": [
    {
     "data": {
      "text/plain": [
       "['sessions', 'informative', 'useful']"
      ]
     },
     "execution_count": 20,
     "metadata": {},
     "output_type": "execute_result"
    }
   ],
   "source": [
    "filter_long_words(['All','sessions', 'were', 'informative', 'up' ,'to' ,'date', 'and' ,'useful'],5)"
   ]
  },
  {
   "cell_type": "code",
   "execution_count": null,
   "metadata": {},
   "outputs": [],
   "source": [
    "# 2.1 Write a Python program using function concept that maps list of words into a list of integers\n",
    "# representing the lengths of the corresponding words."
   ]
  },
  {
   "cell_type": "code",
   "execution_count": 25,
   "metadata": {},
   "outputs": [],
   "source": [
    "def GetLen(wrds):\n",
    "    LenLst=list()\n",
    "    for word in wrds:\n",
    "        LenLst.append(len(word))\n",
    "    return LenLst\n",
    "    "
   ]
  },
  {
   "cell_type": "code",
   "execution_count": 26,
   "metadata": {},
   "outputs": [
    {
     "data": {
      "text/plain": [
       "[1, 6, 8, 2, 5, 3, 4, 12, 3, 8, 4, 11, 3, 9]"
      ]
     },
     "execution_count": 26,
     "metadata": {},
     "output_type": "execute_result"
    }
   ],
   "source": [
    "GetLen(['I','joined','Acadgild','to','learn','Big','Data','development.','The','sessions','were','informative','and','explained'])"
   ]
  },
  {
   "cell_type": "code",
   "execution_count": null,
   "metadata": {},
   "outputs": [],
   "source": [
    "# 2.2 Write a Python function which takes a character (i.e. a string of length 1) and returns True if it is\n",
    "# a vowel, False otherwise."
   ]
  },
  {
   "cell_type": "code",
   "execution_count": 28,
   "metadata": {},
   "outputs": [],
   "source": [
    "def ChkVowel(chr):\n",
    "    LstVowel=['a','e','i','o','u']\n",
    "    if chr.lower() in LstVowel:\n",
    "        print('The given character is a Vowel')\n",
    "    else:\n",
    "        print('The given character is not Vowel')"
   ]
  },
  {
   "cell_type": "code",
   "execution_count": 32,
   "metadata": {},
   "outputs": [
    {
     "name": "stdout",
     "output_type": "stream",
     "text": [
      "The given character is not Vowel\n"
     ]
    }
   ],
   "source": [
    "ChkVowel('H')"
   ]
  },
  {
   "cell_type": "code",
   "execution_count": null,
   "metadata": {},
   "outputs": [],
   "source": []
  }
 ],
 "metadata": {
  "kernelspec": {
   "display_name": "Python 3",
   "language": "python",
   "name": "python3"
  },
  "language_info": {
   "codemirror_mode": {
    "name": "ipython",
    "version": 3
   },
   "file_extension": ".py",
   "mimetype": "text/x-python",
   "name": "python",
   "nbconvert_exporter": "python",
   "pygments_lexer": "ipython3",
   "version": "3.7.0"
  }
 },
 "nbformat": 4,
 "nbformat_minor": 2
}
